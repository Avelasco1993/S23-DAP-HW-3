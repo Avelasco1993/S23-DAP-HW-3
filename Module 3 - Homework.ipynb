{
 "cells": [
  {
   "cell_type": "markdown",
   "metadata": {},
   "source": [
    "### Exercise 1\n",
    "Ask a user for 5 names and place each one in to a list called <i>names</i>. Then, print <i>names</i>."
   ]
  },
  {
   "cell_type": "code",
   "execution_count": 13,
   "metadata": {},
   "outputs": [
    {
     "name": "stdout",
     "output_type": "stream",
     "text": [
      "give me a first name:al\n",
      "give me a second name:ed\n",
      "give me a third name:mark\n",
      "give me a fourth name:kevin\n",
      "give me a fifth name:jordan\n",
      "['al', 'ed', 'mark', 'kevin', 'jordan']\n"
     ]
    }
   ],
   "source": [
    "# append is used in this scenario to give a user the ability to input names in a separate lines of order\n",
    "\n",
    "names = []\n",
    "\n",
    "names.append(input(\"give me a first name:\"))\n",
    "names.append(input(\"give me a second name:\"))\n",
    "names.append(input(\"give me a third name:\"))\n",
    "names.append(input(\"give me a fourth name:\"))\n",
    "names.append(input(\"give me a fifth name:\"))\n",
    "\n",
    "print(names)"
   ]
  },
  {
   "cell_type": "markdown",
   "metadata": {},
   "source": [
    "### Exercise 2\n",
    "Print out a randomly selected name in the names list."
   ]
  },
  {
   "cell_type": "code",
   "execution_count": 18,
   "metadata": {},
   "outputs": [
    {
     "data": {
      "text/plain": [
       "'kevin'"
      ]
     },
     "execution_count": 18,
     "metadata": {},
     "output_type": "execute_result"
    }
   ],
   "source": [
    "# import the random library\n",
    "\n",
    "import random as rand\n",
    "\n",
    "## generate a rando number in the range of the list \"name\" (0-4)\n",
    "\n",
    "x = rand.randint(0,4)\n",
    "\n",
    "## print out whatever name is in index position of the random number\n",
    "\n",
    "names[x]"
   ]
  },
  {
   "cell_type": "markdown",
   "metadata": {},
   "source": [
    "### Exercise 3\n",
    "\n",
    "Ask a user for a specific color and store that value into a variable. If the answer is gray, print \"You found Victor's favorite color!\". If the answer is anything besides gray, print \"[color name] is not Victor's favorite color.\""
   ]
  },
  {
   "cell_type": "code",
   "execution_count": 4,
   "metadata": {},
   "outputs": [
    {
     "name": "stdout",
     "output_type": "stream",
     "text": [
      "what color are you looking for?:red\n",
      "do you understand Victor's favorite color?\n"
     ]
    },
    {
     "data": {
      "text/plain": [
       "'please ask Victor for his favorite color'"
      ]
     },
     "execution_count": 4,
     "metadata": {},
     "output_type": "execute_result"
    }
   ],
   "source": [
    "## Finding Victor's favorite color\n",
    "\n",
    "customer = str(input(\"what color are you looking for?:\"))\n",
    "def victors_favorite(color):\n",
    "    if color == \"gray\":\n",
    "        print(\"You found Victor's favorite color!\")\n",
    "    else:\n",
    "        print(\"do you understand Victor's favorite color?\")\n",
    "        return f\"please ask Victor for his favorite color\"\n",
    "    \n",
    "victors_favorite(customer)"
   ]
  },
  {
   "cell_type": "markdown",
   "metadata": {},
   "source": [
    "### Exercise 4\n",
    "Ask for an exam score and store that number. If the number is greater than 100, then print out 'You cannot have an exam score higher than 100'. If the number doesn't exceeed 100 but is greater than or equal to 75, then print out 'You did great on your exam!'. Otherwise if they scored lower than 75, then print out 'You need to study harder'."
   ]
  },
  {
   "cell_type": "code",
   "execution_count": 6,
   "metadata": {},
   "outputs": [
    {
     "name": "stdout",
     "output_type": "stream",
     "text": [
      "You did great on your exam!\n"
     ]
    }
   ],
   "source": [
    "def exam1(score):\n",
    "    if score > 100:\n",
    "        print(\"You cannot have an exam score higher than 100\")\n",
    "    elif score >= 75:\n",
    "        print(\"You did great on your exam!\")\n",
    "    elif score < 75:\n",
    "        print(\"You need to study harder\")\n",
    "    else:\n",
    "        print(\"studying is the key!\")\n",
    "        \n",
    "exam1(80)"
   ]
  },
  {
   "cell_type": "markdown",
   "metadata": {},
   "source": [
    "### Exercise 5\n",
    "Write a function to convert a test score to a grade where  \n",
    " - 90 - 100: A\n",
    " - 80 - 89:  B\n",
    " - 70 - 79:  C\n",
    " - 60 - 69:  D\n",
    " - < 60   :  F\n",
    " \n",
    "If a score is not between 0 and 100 then print out an error message. In the program, ask the user for a score and then call your function. "
   ]
  },
  {
   "cell_type": "code",
   "execution_count": 28,
   "metadata": {},
   "outputs": [],
   "source": [
    "def grade(scores):\n",
    "\n",
    "    list = grade\n",
    "\n",
    "    A = (90 - 100)\n",
    "    B = (80 - 89)\n",
    "    C = (70 - 79)\n",
    "    D = (60 - 69)\n",
    "    E = (grade < 60)"
   ]
  },
  {
   "cell_type": "code",
   "execution_count": 3,
   "metadata": {},
   "outputs": [
    {
     "name": "stdout",
     "output_type": "stream",
     "text": [
      "what's your test score?:103\n",
      "ERROR - SCORE MUST BE BETWEEN 0 TO 100\n"
     ]
    }
   ],
   "source": [
    "student = int(input(\"what's your test score?:\")) # first function / formula\n",
    "def test_score(grade):                           # second function / formula\n",
    "    if grade > 100 or grade < 0:\n",
    "        print(\"ERROR - SCORE MUST BE BETWEEN 0 TO 100\")\n",
    "    elif grade >= 90:\n",
    "        print(\"A\")\n",
    "    elif grade >= 80:\n",
    "        print(\"B\")\n",
    "    elif grade >= 70:\n",
    "        print(\"C\")\n",
    "    elif grade >= 60:\n",
    "        print(\"D\")\n",
    "    elif grade <= 60:\n",
    "        print(\"E\")\n",
    "    else:\n",
    "        print(\"studying is key\")\n",
    "test_score(student)"
   ]
  },
  {
   "cell_type": "code",
   "execution_count": null,
   "metadata": {},
   "outputs": [],
   "source": []
  }
 ],
 "metadata": {
  "kernelspec": {
   "display_name": "Python 3 (ipykernel)",
   "language": "python",
   "name": "python3"
  },
  "language_info": {
   "codemirror_mode": {
    "name": "ipython",
    "version": 3
   },
   "file_extension": ".py",
   "mimetype": "text/x-python",
   "name": "python",
   "nbconvert_exporter": "python",
   "pygments_lexer": "ipython3",
   "version": "3.9.13"
  }
 },
 "nbformat": 4,
 "nbformat_minor": 4
}
